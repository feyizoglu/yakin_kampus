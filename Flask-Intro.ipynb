{
 "cells": [
  {
   "cell_type": "code",
   "execution_count": null,
   "id": "36a651a7",
   "metadata": {},
   "outputs": [],
   "source": [
    "from flask import Flask, request #serverla alakalı olarak çalışıyor\n",
    "#Port doluysa nasıl durduracağını araştır\n",
    "#postman üzerinden server'ın çalışıp çalışmadığını da kontrol edebiliyoruz\n",
    "#ngrock diye bir uygulama var ve bu uygulama localhost domain'ini herkes tarafından ulaşılan bir siteye dönüştürüyor."
   ]
  },
  {
   "cell_type": "code",
   "execution_count": null,
   "id": "0aa3b3d7",
   "metadata": {},
   "outputs": [],
   "source": [
    "app = Flask(__name__)\n",
    "\n",
    "@app.route(\"/\", methods=['POST'])\n",
    "def ping():\n",
    "    return \"succes\"\n",
    "\n",
    "@app.route(\"/ping_user\", methods=['POST'])\n",
    "def ping_user():\n",
    "    print(request)\n",
    "    ad = request.args.get('username')\n",
    "    \n",
    "    return f\"Merhaba {ad} server'a hoş geldin.\"\n",
    "if __name__ == '__main__':\n",
    "    app.run()\n"
   ]
  },
  {
   "cell_type": "code",
   "execution_count": null,
   "id": "5c9ecaeb",
   "metadata": {},
   "outputs": [],
   "source": []
  },
  {
   "cell_type": "code",
   "execution_count": null,
   "id": "7854fd94",
   "metadata": {},
   "outputs": [],
   "source": []
  }
 ],
 "metadata": {
  "kernelspec": {
   "display_name": "Python 3 (ipykernel)",
   "language": "python",
   "name": "python3"
  },
  "language_info": {
   "codemirror_mode": {
    "name": "ipython",
    "version": 3
   },
   "file_extension": ".py",
   "mimetype": "text/x-python",
   "name": "python",
   "nbconvert_exporter": "python",
   "pygments_lexer": "ipython3",
   "version": "3.9.7"
  }
 },
 "nbformat": 4,
 "nbformat_minor": 5
}
